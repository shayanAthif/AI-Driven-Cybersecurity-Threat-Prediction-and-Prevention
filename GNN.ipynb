{
  "nbformat": 4,
  "nbformat_minor": 0,
  "metadata": {
    "colab": {
      "provenance": [],
      "gpuType": "T4"
    },
    "kernelspec": {
      "name": "python3",
      "display_name": "Python 3"
    },
    "language_info": {
      "name": "python"
    },
    "accelerator": "GPU"
  },
  "cells": [
    {
      "cell_type": "code",
      "source": [
        "pip install torch_geometric"
      ],
      "metadata": {
        "colab": {
          "base_uri": "https://localhost:8080/"
        },
        "id": "tAB8BGt2LjGC",
        "outputId": "ad80fe4a-97f1-479b-fb12-59ff0748b191"
      },
      "execution_count": null,
      "outputs": [
        {
          "output_type": "stream",
          "name": "stdout",
          "text": [
            "Collecting torch_geometric\n",
            "  Downloading torch_geometric-2.6.1-py3-none-any.whl.metadata (63 kB)\n",
            "\u001b[?25l     \u001b[90m━━━━━━━━━━━━━━━━━━━━━━━━━━━━━━━━━━━━━━━━\u001b[0m \u001b[32m0.0/63.1 kB\u001b[0m \u001b[31m?\u001b[0m eta \u001b[36m-:--:--\u001b[0m\r\u001b[2K     \u001b[90m━━━━━━━━━━━━━━━━━━━━━━━━━━━━━━━━━━━━━━━━\u001b[0m \u001b[32m63.1/63.1 kB\u001b[0m \u001b[31m2.0 MB/s\u001b[0m eta \u001b[36m0:00:00\u001b[0m\n",
            "\u001b[?25hRequirement already satisfied: aiohttp in /usr/local/lib/python3.10/dist-packages (from torch_geometric) (3.10.10)\n",
            "Requirement already satisfied: fsspec in /usr/local/lib/python3.10/dist-packages (from torch_geometric) (2024.10.0)\n",
            "Requirement already satisfied: jinja2 in /usr/local/lib/python3.10/dist-packages (from torch_geometric) (3.1.4)\n",
            "Requirement already satisfied: numpy in /usr/local/lib/python3.10/dist-packages (from torch_geometric) (1.26.4)\n",
            "Requirement already satisfied: psutil>=5.8.0 in /usr/local/lib/python3.10/dist-packages (from torch_geometric) (5.9.5)\n",
            "Requirement already satisfied: pyparsing in /usr/local/lib/python3.10/dist-packages (from torch_geometric) (3.2.0)\n",
            "Requirement already satisfied: requests in /usr/local/lib/python3.10/dist-packages (from torch_geometric) (2.32.3)\n",
            "Requirement already satisfied: tqdm in /usr/local/lib/python3.10/dist-packages (from torch_geometric) (4.66.6)\n",
            "Requirement already satisfied: aiohappyeyeballs>=2.3.0 in /usr/local/lib/python3.10/dist-packages (from aiohttp->torch_geometric) (2.4.3)\n",
            "Requirement already satisfied: aiosignal>=1.1.2 in /usr/local/lib/python3.10/dist-packages (from aiohttp->torch_geometric) (1.3.1)\n",
            "Requirement already satisfied: attrs>=17.3.0 in /usr/local/lib/python3.10/dist-packages (from aiohttp->torch_geometric) (24.2.0)\n",
            "Requirement already satisfied: frozenlist>=1.1.1 in /usr/local/lib/python3.10/dist-packages (from aiohttp->torch_geometric) (1.5.0)\n",
            "Requirement already satisfied: multidict<7.0,>=4.5 in /usr/local/lib/python3.10/dist-packages (from aiohttp->torch_geometric) (6.1.0)\n",
            "Requirement already satisfied: yarl<2.0,>=1.12.0 in /usr/local/lib/python3.10/dist-packages (from aiohttp->torch_geometric) (1.17.0)\n",
            "Requirement already satisfied: async-timeout<5.0,>=4.0 in /usr/local/lib/python3.10/dist-packages (from aiohttp->torch_geometric) (4.0.3)\n",
            "Requirement already satisfied: MarkupSafe>=2.0 in /usr/local/lib/python3.10/dist-packages (from jinja2->torch_geometric) (3.0.2)\n",
            "Requirement already satisfied: charset-normalizer<4,>=2 in /usr/local/lib/python3.10/dist-packages (from requests->torch_geometric) (3.4.0)\n",
            "Requirement already satisfied: idna<4,>=2.5 in /usr/local/lib/python3.10/dist-packages (from requests->torch_geometric) (3.10)\n",
            "Requirement already satisfied: urllib3<3,>=1.21.1 in /usr/local/lib/python3.10/dist-packages (from requests->torch_geometric) (2.2.3)\n",
            "Requirement already satisfied: certifi>=2017.4.17 in /usr/local/lib/python3.10/dist-packages (from requests->torch_geometric) (2024.8.30)\n",
            "Requirement already satisfied: typing-extensions>=4.1.0 in /usr/local/lib/python3.10/dist-packages (from multidict<7.0,>=4.5->aiohttp->torch_geometric) (4.12.2)\n",
            "Requirement already satisfied: propcache>=0.2.0 in /usr/local/lib/python3.10/dist-packages (from yarl<2.0,>=1.12.0->aiohttp->torch_geometric) (0.2.0)\n",
            "Downloading torch_geometric-2.6.1-py3-none-any.whl (1.1 MB)\n",
            "\u001b[2K   \u001b[90m━━━━━━━━━━━━━━━━━━━━━━━━━━━━━━━━━━━━━━━━\u001b[0m \u001b[32m1.1/1.1 MB\u001b[0m \u001b[31m18.0 MB/s\u001b[0m eta \u001b[36m0:00:00\u001b[0m\n",
            "\u001b[?25hInstalling collected packages: torch_geometric\n",
            "Successfully installed torch_geometric-2.6.1\n"
          ]
        }
      ]
    },
    {
      "cell_type": "code",
      "source": [
        "import torch\n",
        "import torch.nn.functional as F\n",
        "from torch_geometric.nn import SAGEConv, global_mean_pool\n",
        "from torch_geometric.data import Data\n",
        "from sklearn.metrics import classification_report\n",
        "import pandas as pd\n",
        "from sklearn.model_selection import train_test_split\n",
        "from sklearn.preprocessing import StandardScaler, LabelEncoder\n",
        "import numpy as np\n",
        "\n",
        "# Load and preprocess the dataset\n",
        "def load_data(file_path):\n",
        "    data = pd.read_csv(file_path)\n",
        "\n",
        "    X = data.drop(['target'], axis=1)\n",
        "    y = data['target']  # Assuming 'target' column for labels\n",
        "\n",
        "    # Scale features and encode labels\n",
        "    scaler = StandardScaler()\n",
        "    X = scaler.fit_transform(X)\n",
        "    le = LabelEncoder()\n",
        "    y = le.fit_transform(y)\n",
        "\n",
        "    # Convert to PyTorch tensors\n",
        "    X_tensor = torch.tensor(X, dtype=torch.float)\n",
        "    y_tensor = torch.tensor(y, dtype=torch.long)\n",
        "    return X_tensor, y_tensor\n",
        "\n",
        "# Create a graph with k-nearest neighbors edges and proper batching\n",
        "def create_graph_data(X, y, k=5):\n",
        "    from sklearn.neighbors import kneighbors_graph\n",
        "    edge_matrix = kneighbors_graph(X.numpy(), k, mode=\"connectivity\", include_self=False)\n",
        "    edge_index = torch.tensor(np.array(edge_matrix.nonzero()), dtype=torch.long)\n",
        "    batch = torch.arange(X.size(0), dtype=torch.long)  # Each node treated as separate graph\n",
        "    return Data(x=X, edge_index=edge_index, y=y, batch=batch)\n",
        "\n",
        "# Define a custom GraphSAGE model with mean pooling\n",
        "class CustomGraphSAGE(torch.nn.Module):\n",
        "    def __init__(self, input_dim, hidden_dim, output_dim):\n",
        "        super(CustomGraphSAGE, self).__init__()\n",
        "        self.conv1 = SAGEConv(input_dim, hidden_dim)\n",
        "        self.conv2 = SAGEConv(hidden_dim, hidden_dim // 2)\n",
        "        self.fc = torch.nn.Linear(hidden_dim // 2, output_dim)\n",
        "\n",
        "    def forward(self, data):\n",
        "        x, edge_index, batch = data.x, data.edge_index, data.batch\n",
        "        x = F.relu(self.conv1(x, edge_index))\n",
        "        x = F.relu(self.conv2(x, edge_index))\n",
        "        x = global_mean_pool(x, batch)  # Mean pooling for global representation\n",
        "        x = self.fc(x)\n",
        "        return F.log_softmax(x, dim=1)\n",
        "\n",
        "# Load data and initialize the model\n",
        "file_path = 'Dataset.csv'\n",
        "X, y = load_data(file_path)\n",
        "data = create_graph_data(X, y)\n",
        "train_indices, test_indices = train_test_split(range(len(y)), test_size=0.2, random_state=42)\n",
        "data.train_mask = torch.tensor(train_indices, dtype=torch.long)\n",
        "data.test_mask = torch.tensor(test_indices, dtype=torch.long)\n",
        "\n",
        "input_dim = X.size(1)\n",
        "hidden_dim = 128  # Reduce hidden dimensions for faster computation\n",
        "output_dim = len(torch.unique(y))\n",
        "\n",
        "# Initialize model, optimizer, and criterion\n",
        "model = CustomGraphSAGE(input_dim, hidden_dim, output_dim)\n",
        "optimizer = torch.optim.Adam(model.parameters(), lr=0.01)\n",
        "criterion = torch.nn.CrossEntropyLoss()\n",
        "\n",
        "# Training loop with mini-batch processing\n",
        "epochs = 100  # Reduce epochs for faster training\n",
        "for epoch in range(epochs):\n",
        "    model.train()\n",
        "    optimizer.zero_grad()\n",
        "    out = model(data)\n",
        "    loss = criterion(out[data.train_mask], data.y[data.train_mask])\n",
        "    loss.backward()\n",
        "    optimizer.step()\n",
        "\n",
        "    if epoch % 10 == 0:\n",
        "        print(f'Epoch {epoch}, Loss: {loss:.4f}')\n",
        "\n",
        "# Evaluate the model\n",
        "model.eval()\n",
        "with torch.no_grad():\n",
        "    predictions = model(data).argmax(dim=1)\n",
        "    y_true = data.y[data.test_mask].numpy()\n",
        "    y_pred = predictions[data.test_mask].numpy()\n",
        "    report = classification_report(y_true, y_pred, output_dict=True)\n",
        "\n",
        "print(f\"Classification Report: {report}\")\n"
      ],
      "metadata": {
        "colab": {
          "base_uri": "https://localhost:8080/"
        },
        "id": "HEwAw2ucjsBL",
        "outputId": "2330e644-9bc1-42b5-c22a-13fa370b29e0"
      },
      "execution_count": null,
      "outputs": [
        {
          "output_type": "stream",
          "name": "stdout",
          "text": [
            "Epoch 0, Loss: 0.7025\n",
            "Epoch 10, Loss: 0.2194\n",
            "Epoch 20, Loss: 0.1808\n",
            "Epoch 30, Loss: 0.1549\n",
            "Epoch 40, Loss: 0.1307\n",
            "Epoch 50, Loss: 0.1201\n",
            "Epoch 60, Loss: 0.1123\n",
            "Epoch 70, Loss: 0.1385\n",
            "Epoch 80, Loss: 0.0988\n",
            "Epoch 90, Loss: 0.0937\n",
            "Classification Report: {'0': {'precision': 0.976028832453273, 'recall': 0.8514294070337062, 'f1-score': 0.9094814120587317, 'support': 13677.0}, '1': {'precision': 0.964254929899555, 'recall': 0.9948095315874486, 'f1-score': 0.9792939579090292, 'support': 55101.0}, 'accuracy': 0.9662973625287156, 'macro avg': {'precision': 0.970141881176414, 'recall': 0.9231194693105773, 'f1-score': 0.9443876849838804, 'support': 68778.0}, 'weighted avg': {'precision': 0.9665962551085928, 'recall': 0.9662973625287156, 'f1-score': 0.9654112310255125, 'support': 68778.0}}\n"
          ]
        }
      ]
    },
    {
      "cell_type": "code",
      "source": [
        "from sklearn.metrics import classification_report, confusion_matrix\n",
        "import matplotlib.pyplot as plt\n",
        "import seaborn as sns\n",
        "\n",
        "# Evaluate the model\n",
        "model.eval()\n",
        "with torch.no_grad():\n",
        "    predictions = model(data).argmax(dim=1)\n",
        "    y_true = data.y[data.test_mask].numpy()\n",
        "    y_pred = predictions[data.test_mask].numpy()\n",
        "    report = classification_report(y_true, y_pred, output_dict=True)\n",
        "    conf_matrix = confusion_matrix(y_true, y_pred)\n",
        "\n",
        "# Print classification report\n",
        "print(f\"Classification Report:\\n{report}\")\n",
        "\n",
        "# Plot confusion matrix\n",
        "plt.figure(figsize=(6, 4))\n",
        "sns.heatmap(conf_matrix, annot=True, fmt=\"d\", cmap=\"Blues\", xticklabels=['Benign', 'Malicious'], yticklabels=['Benign', 'Malicious'])\n",
        "plt.xlabel('Predicted')\n",
        "plt.ylabel('Actual')\n",
        "plt.title('Confusion Matrix')\n",
        "plt.show()\n"
      ],
      "metadata": {
        "colab": {
          "base_uri": "https://localhost:8080/",
          "height": 465
        },
        "id": "m3I063FWly_u",
        "outputId": "4c295807-f04b-4aa0-bbe8-dd5ef622416d"
      },
      "execution_count": null,
      "outputs": [
        {
          "output_type": "stream",
          "name": "stdout",
          "text": [
            "Classification Report:\n",
            "{'0': {'precision': 0.976028832453273, 'recall': 0.8514294070337062, 'f1-score': 0.9094814120587317, 'support': 13677.0}, '1': {'precision': 0.964254929899555, 'recall': 0.9948095315874486, 'f1-score': 0.9792939579090292, 'support': 55101.0}, 'accuracy': 0.9662973625287156, 'macro avg': {'precision': 0.970141881176414, 'recall': 0.9231194693105773, 'f1-score': 0.9443876849838804, 'support': 68778.0}, 'weighted avg': {'precision': 0.9665962551085928, 'recall': 0.9662973625287156, 'f1-score': 0.9654112310255125, 'support': 68778.0}}\n"
          ]
        },
        {
          "output_type": "display_data",
          "data": {
            "text/plain": [
              "<Figure size 600x400 with 2 Axes>"
            ],
            "image/png": "[encoded data removed]"
          },
          "metadata": {}
        }
      ]
    },
    {
      "cell_type": "code",
      "source": [],
      "metadata": {
        "id": "_Hvi5Gd-RnOW"
      },
      "execution_count": null,
      "outputs": []
    },
    {
      "cell_type": "code",
      "source": [],
      "metadata": {
        "id": "-tTRb-oORnIJ"
      },
      "execution_count": null,
      "outputs": []
    }
  ]
}